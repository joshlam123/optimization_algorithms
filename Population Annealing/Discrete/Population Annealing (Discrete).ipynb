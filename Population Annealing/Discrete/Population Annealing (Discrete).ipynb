{
 "cells": [
  {
   "cell_type": "code",
   "execution_count": 1,
   "metadata": {},
   "outputs": [],
   "source": [
    "import cProfile\n",
    "import numpy as np\n",
    "import pandas as pd\n",
    "import matplotlib.pyplot as plt\n",
    "import seaborn as sns\n",
    "import random\n",
    "import os\n",
    "import math\n",
    "from tqdm import tqdm\n",
    "import sys\n",
    "import os\n",
    "sys.path.insert(0, '../../Simulated Annealing/Discrete')\n",
    "from gen_cities import GenCities\n",
    "from greedy import GreedyTSP\n",
    "import multiprocessing as mp\n",
    "import scipy\n",
    "from scipy.interpolate import interp1d\n",
    "from statsmodels.distributions.empirical_distribution import ECDF\n",
    "import operator\n",
    "import time\n",
    "pd.options.display.float_format = '{:,.1f}'.format\n",
    "# Plot inline in Jupyter notebook\n",
    "# Settings throughout the notebook\n",
    "sns.set()\n",
    "# Width = 16, Height = 6\n",
    "DIMS=(16, 6)\n",
    "FIGSIZE = (16, 5)"
   ]
  },
  {
   "cell_type": "code",
   "execution_count": 2,
   "metadata": {},
   "outputs": [],
   "source": [
    "def spawn_cities(no_cities, **args):\n",
    "    create_city = GenCities(no_cities)\n",
    "          # generate the random cities\n",
    "    create_city.generate_cities()\n",
    "    create_city.generate_initial_tour() \n",
    "    create_city.precomp_distances()\n",
    "\n",
    "    return create_city\n",
    "\n",
    "city = 50\n",
    "Ncity = spawn_cities(no_cities=city)\n"
   ]
  },
  {
   "cell_type": "code",
   "execution_count": 29,
   "metadata": {},
   "outputs": [],
   "source": [
    "# what kind of dimensionality do we want to introduce so that we can do clustering on this data?\n",
    "\n",
    "cities_dict = {\"city\":list(), \"x\":list(), \"y\":list()}\n",
    "for k,v in Ncity.cities.items():\n",
    "    cities_dict['city'].append(k)\n",
    "    cities_dict['x'].append(Ncity.cities[k][0][0])\n",
    "    cities_dict['y'].append(Ncity.cities[k][0][1])\n",
    "cities_dataframe = pd.DataFrame(cities_dict)\n",
    "\n",
    "i1 = np.arange(0, 0 + (city**0.5), 0.01)\n",
    "i2 = np.arange(0, 0 + (city**0.5), 0.01)\n",
    "def print_city_map():\n",
    "    (x1m, x2m) = np.meshgrid(i1, i2)\n",
    "    fm = np.zeros(x1m.shape)\n",
    "    for i in range(x1m.shape[0]):\n",
    "        for j in range(x1m.shape[1]):\n",
    "            fm[i][j] = 0.2 + x1m[i][j] ** 2 + x2m[i][j] ** 2 - 0.1 \\\n",
    "                    * math.cos(6.0 * 3.1415 * x1m[i][j]) - 0.1 \\\n",
    "                    * math.cos(6.0 * 3.1415 * x2m[i][j])\n",
    "\n",
    "    plt.figure()\n",
    "\n",
    "            # CS = plt.contour(x1m, x2m, fm)#,lines)\n",
    "            # plt.clabel(CS, inline=1, fontsize=10)\n",
    "\n",
    "    plt.title('TSP Map')\n",
    "    plt.xlabel('x')\n",
    "    plt.ylabel('y')\n",
    "\n",
    "    lists = sorted(Ncity.cities.values())  # sorted by key, return a list of tuples\n",
    "    (x, y) = zip(*lists)  # unpack a list of pairs into two tuples\n",
    "    plt.scatter(*zip(*x))\n",
    "    plt.show()\n",
    "\n",
    "print_city_map()\n",
    "\n",
    "cities_dataframe.to_csv(\"city_coordinates_100.csv\")"
   ]
  },
  {
   "cell_type": "code",
   "execution_count": 3,
   "metadata": {},
   "outputs": [],
   "source": [
    "#!/usr/bin/python\n",
    "# -*- coding: utf-8 -*-\n",
    "# note if you want to change the function, remember to change the boundaries at which the function is evaluated!\n",
    "\n",
    "\n",
    "class PAAnneal:\n",
    "\n",
    "    '''\n",
    "    Pass the max steps you want to take to the annealer function\n",
    "    '''\n",
    "\n",
    "    def __init__(\n",
    "          self,\n",
    "        maxsteps=500,\n",
    "        multiplier=1,\n",
    "        control_t=1,\n",
    "        swaps=round((Ncity.n)**0.5),\n",
    "        explore=30,\n",
    "        walkers=10,\n",
    "        error_thres=10e-2, \n",
    "        correct=0.0,\n",
    "        choice='multinomial'\n",
    "      #accs = [500, 1, 1, 0.5, 0, round((Ncity.n)**0.5), 30]\n",
    "          ):\n",
    "        '''\n",
    "        inputs: total number of steps to try, geometric multiplier for annealing schedule\n",
    "        Initialize parameters\n",
    "        output: none\n",
    "        '''\n",
    "\n",
    "        self.cities, self.start_city, self.table_distances = Ncity.cities, Ncity.start_city, Ncity.table_distances\n",
    "        self.correct_answer, self.error_threshold, self.cumulative_correct = correct, error_thres, 0.0\n",
    "        self.threshold, self.control = multiplier, control_t\n",
    "        self.Tmax, self.exploration_space, self.swaps = maxsteps, explore, swaps\n",
    "\n",
    "          # need to change the walkers to match discrete case\n",
    "        self.walkers_t1, self.walkers_t2, self.initial = walkers, walkers, walkers\n",
    "        self.walker_pos, self.new_walker_pos = dict(), dict()\n",
    "\n",
    "        self.energy_landscape = dict()\n",
    "\n",
    "          # e_diff is a lambda function used to calculate the ratio of statistical weight\n",
    "        self.e_diff = lambda x, y: np.exp(-(x[1] - x[0]) * y) \n",
    "        self.distance = lambda x, y: np.sqrt((x[0] - y[0]) ** 2 + (x[1]\n",
    "                      - y[1]) ** 2)\n",
    "    \n",
    "    def resample_population(self, walker_pos, mean_val, stat_weight_ratio, Q, tau, choice='multinomial'):\n",
    "        '''\n",
    "        input: a walker point\n",
    "        randomly resample the population N times for each replica, where N is a poisson random variable\n",
    "        output: either a list of samples or None.\n",
    "        '''\n",
    "\n",
    "        rv = dict()\n",
    "        \n",
    "        if choice == \"poisson\":\n",
    "            # current number of replicas over the previous number of replicas\n",
    "            tau = {k:(self.initial / mean_val * v) for k,v in tau.items()}\n",
    "            # generate a list of poisson values based on the array\n",
    "            rv = {k:np.random.poisson(v) for k,v in tau.items()}\n",
    "            nums = [v for k,v in rv.items()]\n",
    "        \n",
    "        else:\n",
    "\n",
    "            taus = np.array(list(tau.values()))\n",
    "            normalized_taus = taus / np.sum(taus)\n",
    "            nums = np.random.multinomial(self.initial, normalized_taus)\n",
    "            rv = {k:nums[k] for k in range(len(walker_pos))} # this is not self.initial, this is something else. \n",
    "\n",
    "        return rv, nums\n",
    "\n",
    "    def partition_calc(self, walker_pos, t0, t1, mean_val):\n",
    "        '''\n",
    "        input: None\n",
    "        calculate the statistical weight of a single walker, and also \n",
    "        output: parition function and statisticla weight ratios for each walker\n",
    "        '''\n",
    "        stat_weight_ratio = dict()\n",
    "        walk_energies = list()\n",
    "        \n",
    "        # 1 iteration\n",
    "        for k,v in walker_pos.items():\n",
    "            energy = walker_pos[k][1]\n",
    "            #self.walker_pos[k][1] = energy # append the cost function the walker's position\n",
    "            swr = self.e_diff([t0, t1], energy) \n",
    "            # potential problem here in when we need to reinstantiate\n",
    "            if k not in stat_weight_ratio.keys():\n",
    "                stat_weight_ratio[k] = 0.0\n",
    "            stat_weight_ratio[k] = swr\n",
    "            \n",
    "            walk_energies.append(swr)\n",
    "            \n",
    "        partition_function = np.sum([np.exp(-(t1) * i[1]) for i in list(walker_pos.values())])\n",
    "        Q = np.sum(walk_energies) / mean_val\n",
    "        tau = {k:stat_weight_ratio[k]/Q for k,v in walker_pos.items()}\n",
    "\n",
    "        return stat_weight_ratio, partition_function, Q, tau\n",
    "\n",
    "    \n",
    "    def f(self, tour):\n",
    "        '''\n",
    "        input: tour (list)\n",
    "\n",
    "        Function that evaluates the cost of a given x1, x2 (euclidean distance)\n",
    "\n",
    "        output: single cost\n",
    "        '''\n",
    "        distances = [self.table_distances[tour[i]][tour[i + 1]] for i in range(len(tour) - 1)]\n",
    "\n",
    "        total_distance = sum(distances)\n",
    "\n",
    "        return total_distance\n",
    "\n",
    "    def acceptance_probability(\n",
    "        self,\n",
    "        cost,\n",
    "        new_cost,\n",
    "        temperature,\n",
    "        ):\n",
    "        '''\n",
    "        inputs: old cost, new cost, current temperature\n",
    "\n",
    "        calculate probability of acceptance and return it using the metropolis algorithm\n",
    "\n",
    "        output: probability (0 to 1)\n",
    "        '''\n",
    "\n",
    "        return np.exp(-(new_cost - cost) / temperature)\n",
    "\n",
    "    def swap_random(self, tour):\n",
    "        '''\n",
    "        randomly swaps 2 tours\n",
    "        '''\n",
    "\n",
    "        tour = tour[1:][:-1]\n",
    "        idx = range(Ncity.n - 1)\n",
    "        for i in range(self.swaps):\n",
    "            (i1, i2) = random.sample(idx, 2)\n",
    "            (tour[i1], tour[i2]) = (tour[i2], tour[i1])\n",
    "\n",
    "        tour = [self.start_city] + tour + [self.start_city]\n",
    "        cost = self.f(tour)\n",
    "        return (tour, cost)\n",
    "    \n",
    "    def check_correct(self, energy):\n",
    "        self.cumulative_correct += np.sum([1 if (i-self.correct_answer)<=self.error_threshold or i<self.correct_answer else 0 for i in energy])\n",
    "    \n",
    "    def max_key(self, walker_pos):\n",
    "        '''\n",
    "        inputs: none\n",
    "        finds the minimum value in the dictionary of walkers\n",
    "        outputs: key of the lowest (best) cost value in the entire dictionary of walkers\n",
    "        '''\n",
    "        return min(walker_pos.keys(), key=(lambda k: walker_pos[k][1]))\n",
    "\n",
    "    def get_all_affinity(self, swr_affinity, resample_walker):\n",
    "        #     affinity_keys = {i:[[k for m in v if m[0] == i][0] for k,v in swr_affinity.items() if i != k and len(v)>0] for i,j in resample_walker.items()}\n",
    "        affinity_vals = {i:{k:[m for m in v if m[1] == i][0] for k,v in swr_affinity.items() if i != k and len(v)>0 and k not in list(resample_walker.keys())} for i,j in resample_walker.items()}\n",
    "        return affinity_vals\n",
    "    \n",
    "    \n",
    "    def respawn_walker(self, walker_pos, resampled_walker, tau):\n",
    "        calculate_swr = lambda x,y: x/y\n",
    "        # gets those with positive number of resampled walkers\n",
    "        resample_walker = {k:1 for k,v in resampled_walker.items() if v > 0}\n",
    "        # takes the walkers with positive resamplings back into the walker_pos\n",
    "        new_walker_pos = {k:walker_pos[k][:] for k,v in resample_walker.items()}\n",
    "        deleted_items = list()\n",
    "        \n",
    "        swr_affinity = {k:[(calculate_swr(v,tau[i]), i) for i,j in resample_walker.items() if k != i] for k,v in tau.items()}\n",
    "        \n",
    "        resample_affinity_vals = self.get_all_affinity(swr_affinity, resample_walker)\n",
    "        \n",
    "        for k,v in resample_affinity_vals.items():\n",
    "            value = [n for m,n in v.items() if m not in deleted_items]\n",
    "            \n",
    "            sorted_dict = sorted(value, reverse=True)[0:(resampled_walker[k] - resample_walker[k])]\n",
    "            res_items = [m for m,n in v.items() if n in sorted_dict]\n",
    "            rejects = len(sorted_dict) - resample_walker[k]\n",
    "            rejected = sorted_dict[rejects:]\n",
    "\n",
    "            for i in res_items:\n",
    "\n",
    "                new_walker_pos[i] = walker_pos[k][:]\n",
    "                resample_walker[k] += 1\n",
    "                deleted_items.append(i)\n",
    "\n",
    "        return new_walker_pos\n",
    "    \n",
    "    def anneal(self):\n",
    "        '''\n",
    "        inputs: none\n",
    "\n",
    "        function performs annealing and calls random start to kickstart the annealing process. iteratively\n",
    "        calculates the new cost.\n",
    "\n",
    "        output: final cost, final state (list of x1 and x2), all costs (list of costs at every timestep)\n",
    "\n",
    "        '''\n",
    "\n",
    "        # params related to returning the cost and deviation from the optimal objective function\n",
    "        # deviation = list()\n",
    "\n",
    "        # params related to Lam's Annealing Schedule\n",
    "\n",
    "        T_list = [1]\n",
    "        walker_pos, new_walker_pos = dict(), dict()\n",
    "        # metrics we want to keep track of\n",
    "        populations = list()\n",
    "        walker_index = dict()\n",
    "        free_energy = dict()\n",
    "        average_cost = list()\n",
    "        best = list()\n",
    "#         walker_z = list()\n",
    "        \n",
    "        \n",
    "#         taus_over_time = {i:0 for i in range(self.walkers_t1)}\n",
    "        # generate a state of random walkers with their costs, need to change such that we are generating tours instead of other stuff.\n",
    "\n",
    "        # something here that is causing it not to generate properly\n",
    "        for i in range(self.walkers_t1):\n",
    "            tour = Ncity.generate_initial_tour()\n",
    "            walker_pos[i] = [tour, self.f(tour)]\n",
    "\n",
    "        max_key = self.max_key(walker_pos)\n",
    "        best_tour = [[1, walker_pos[max_key][0], walker_pos[max_key][1]/10]]\n",
    "\n",
    "        for temp_step in range(2, self.Tmax+2):            \n",
    "            # calculate the temperature from temp step 2 onward\n",
    "\n",
    "            fraction = 1/temp_step\n",
    "\n",
    "            T = self.threshold * fraction if self.control == 0 & temp_step > 0 else fraction\n",
    "            T_list.append(int(np.round(1/T)))\n",
    "            populations.append(self.walkers_t1)\n",
    "            \n",
    "            params = (T_list[-2], T_list[-1], np.mean(populations))\n",
    "\n",
    "            stat_weight_ratio, partition_function, Q, tau = self.partition_calc(walker_pos, *params)\n",
    "            new_params = [walker_pos] + [params[-1]] + [stat_weight_ratio, Q, tau]\n",
    "            resampled_walker, num_resampled = self.resample_population(*new_params)\n",
    "            new_walker_pos = self.respawn_walker(walker_pos, resampled_walker, tau)\n",
    "            \n",
    "#             taus_over_time = {k:(taus_over_time[k]+v) for k,v in tau.items()}\n",
    "            # explore a new city configuration for each walker (the annealing step)\n",
    "            for k,v in walker_pos.items():\n",
    "                \n",
    "                costs = round(walker_pos[k][1], 2)\n",
    "                states = walker_pos[k][0]\n",
    "\n",
    "                if costs not in self.energy_landscape.keys():\n",
    "                    self.energy_landscape[costs] = 1\n",
    "                else:\n",
    "                    self.energy_landscape[costs] = self.energy_landscape[costs] + 1\n",
    "\n",
    "                walker_pos_check = walker_pos.copy()\n",
    "                for step in range(self.exploration_space):\n",
    "                    (new_tour, new_cost) = self.swap_random(states)\n",
    "                    \n",
    "                    walker_pos_check[k][1] = new_cost\n",
    "                    new_stat_weight_ratio, new_partition_function, new_Q, new_tau = self.partition_calc(walker_pos_check, *params)\n",
    "#                     walker_z.append([temp_step, step, k, new_partition_function])\n",
    "                    \n",
    "                if new_cost < costs or self.acceptance_probability(costs,\n",
    "                      new_cost, T) >= random.uniform(0, 1):\n",
    "                    states, costs = new_tour, new_cost\n",
    "\n",
    "                walker_pos[k][0], walker_pos[k][1] = states, costs\n",
    "\n",
    "                # reassign to best cost if greater than the current best cost\n",
    "                if costs < best_tour[-1][2]:\n",
    "                    best_tour.append([temp_step, states, costs/self.initial]) # should i be putting the state or the walker? none of them are meaningful anyway... \n",
    "\n",
    "            best.append(best_tour[-1][2])\n",
    "                    \n",
    "            all_costs = np.array([walker_pos[k][1] for k,v in walker_pos.items()])\n",
    "#             boltzmann_dist = np.sum(np.exp(-temp_step * all_costs))\n",
    "#             boltzmann_dist = 10e-6 if boltzmann_dist == 0 else boltzmann_dist\n",
    "#             Q = np.exp(-temp_step * all_costs) / boltzmann_dist\n",
    "#             Q = np.array([10e-6 if i == 0 else i for i in Q])\n",
    "            \n",
    "            average_cost.append(np.mean(all_costs))\n",
    "#             energy_pdf = np.array(all_costs) / np.sum(all_costs)\n",
    "#             kl_divergence[temp_step] = scipy.stats.entropy(energy_pdf, Q)\n",
    "    \n",
    "            free_energy[temp_step] = math.log(Q) + math.log(self.walkers_t1)\n",
    "    \n",
    "            self.check_correct(all_costs/self.initial)\n",
    "            \n",
    "            walker_pos = new_walker_pos.copy()\n",
    "            self.walkers_t1 = self.walkers_t2\n",
    "            self.walkers_t2 = len(walker_pos)\n",
    "            new_walker_pos = dict()\n",
    "\n",
    "\n",
    "        return (\n",
    "                self.energy_landscape,\n",
    "                average_cost,\n",
    "                self.cumulative_correct,\n",
    "                free_energy,\n",
    "                best_tour,\n",
    "                best,\n",
    "                populations,\n",
    "                T_list, \n",
    "\n",
    "\n",
    "                )"
   ]
  },
  {
   "cell_type": "code",
   "execution_count": 4,
   "metadata": {},
   "outputs": [],
   "source": [
    "#!/usr/bin/python\n",
    "# -*- coding: utf-8 -*-\n",
    "\n",
    "\n",
    "class GreedyTSP:\n",
    "\n",
    "    def __init__(self):\n",
    "        self.cities = Qcity.cities\n",
    "        self.start_city = Qcity.start_city\n",
    "        print(self.start_city)\n",
    "        self.interval = list()\n",
    "\n",
    "        self.visited_cities = list()\n",
    "\n",
    "        self.greedy_tour = list()\n",
    "        self.distance = lambda x, y: np.sqrt((x[0] - y[0]) ** 2 + (x[1]\n",
    "                - y[1]) ** 2)\n",
    "        self.table_distances = Qcity.table_distances\n",
    "\n",
    "\n",
    "    def f(self, point):\n",
    "        '''\n",
    "        input: a point\n",
    "\n",
    "        Function that finds the minimum distance based on the table with distances to each point\n",
    "\n",
    "        returns: the distance to the next node\n",
    "        '''\n",
    "\n",
    "        next_node = min(self.table_distances[point],\n",
    "                        key=self.table_distances[point].get)\n",
    "        distance = self.table_distances[point][next_node]\n",
    "        return (next_node, distance)\n",
    "\n",
    "    def perform_greedy(self):\n",
    "        '''\n",
    "        function that calls f to perform the greedy function and calculate the distance\n",
    "        '''\n",
    "\n",
    "        total_distance = 0.0\n",
    "        city_keys = len(self.cities.keys())\n",
    "        next_node = (self.start_city, 0)\n",
    "        self.visited_cities.append(self.start_city)\n",
    "        while len(self.visited_cities) <= city_keys:\n",
    "            # check whether we are at the last node\n",
    "\n",
    "            if len(self.visited_cities) <= city_keys-1:\n",
    "                next_node = self.f(next_node[0])\n",
    "\n",
    "                while next_node[0] == self.start_city:\n",
    "                    next_node = self.f(next_node[0])\n",
    "                    \n",
    "                self.visited_cities.append(next_node[0])\n",
    "\n",
    "                for (k, v) in self.table_distances.items():\n",
    "                    if k != next_node[0]:\n",
    "                        del self.table_distances[k][next_node[0]]\n",
    "                total_distance += next_node[1]\n",
    "                \n",
    "            else:\n",
    "\n",
    "            # else we are at the last node and return back to starting point\n",
    "                total_distance += \\\n",
    "                    self.table_distances[next_node[0]][self.start_city]\n",
    "                \n",
    "                self.visited_cities.append(self.start_city)\n",
    "\n",
    "            avg = total_distance / len(self.visited_cities)\n",
    "\n",
    "        average_distance = total_distance / city_keys\n",
    "        return (total_distance, average_distance)\n",
    "\n",
    "    def greedy_this(self):\n",
    "        '''\n",
    "        call this function to run the entire annealing algortihm\n",
    "        '''\n",
    "        (total_distance, average_distance) = self.perform_greedy()\n",
    "        return (total_distance, average_distance)\n",
    "    "
   ]
  },
  {
   "cell_type": "code",
   "execution_count": 5,
   "metadata": {},
   "outputs": [
    {
     "name": "stdout",
     "output_type": "stream",
     "text": [
      "12\n"
     ]
    },
    {
     "data": {
      "text/plain": [
       "0.8956281135109379"
      ]
     },
     "execution_count": 5,
     "metadata": {},
     "output_type": "execute_result"
    }
   ],
   "source": [
    "tries_greedy = {\"run\":list(), \"start_city\":list()}#, \"deviations\":list()}\n",
    "start_cities = list()\n",
    "\n",
    "for i in range(1):\n",
    "    Qcity = spawn_cities(no_cities=50)\n",
    "    start_cities.append(Qcity.start_city)\n",
    "    a = GreedyTSP()\n",
    "    total_distance, average_distance = a.greedy_this()\n",
    "    tries_greedy['run'].append(i)\n",
    "    tries_greedy['start_city'].append(Ncity.start_city)\n",
    "    tries_greedy['total_len'] = total_distance\n",
    "    tries_greedy['avg_tour_len'] = average_distance\n",
    "#   print(\"The total distance from Greedy TSP is: {}\".format(total_distance))\n",
    "#   print(\"The average distance from Greedy TSP is: {}\".format(average_distance))\n",
    "\n",
    "greedy_df = pd.DataFrame.from_dict(tries_greedy)\n",
    "greedy_mean = greedy_df.groupby(['run']).mean().reset_index()\n",
    "lowest = greedy_mean[greedy_mean['avg_tour_len'] == greedy_mean['avg_tour_len'].min()]['avg_tour_len'][0]\n",
    "lowest"
   ]
  },
  {
   "cell_type": "code",
   "execution_count": 8,
   "metadata": {},
   "outputs": [
    {
     "name": "stdout",
     "output_type": "stream",
     "text": [
      "Time taken: 51.23902106285095\n"
     ]
    }
   ],
   "source": [
    "explore=50\n",
    "start = time.time()\n",
    "a = PAAnneal(maxsteps=101, multiplier=0.8, walkers=explore, correct=lowest)\n",
    "energy_landscape, average_cost, cumulative, free_energy, best_cost_replace, best_cost, population, temp = a.anneal()\n",
    "print(\"Time taken: {}\".format(time.time() - start))\n",
    "# new_divergence = np.abs([0 if math.isinf(v) == True else v for k,v in kl_divergence.items()])\n",
    "\n",
    "# walker_z_df = pd.DataFrame.from_records(walker_z).rename(columns={0:\"temp\", 1:\"sweep\", 2:\"walker\", 3:\"partition_function\"})\n",
    "# walker_z_df.head()\n"
   ]
  },
  {
   "cell_type": "code",
   "execution_count": null,
   "metadata": {},
   "outputs": [],
   "source": [
    "np.cumsum(walker_z_df[(walker_z_df['walker']==15) & (walker_z_df['temp']==1000)]['partition_function'])"
   ]
  },
  {
   "cell_type": "code",
   "execution_count": null,
   "metadata": {},
   "outputs": [],
   "source": [
    "# need to explore maybe - 5 sets of low temperature, 5 sets of medium temperature, 5 sets of high temperature\n",
    "temp_explore = [np.sort(np.random.randint(4000, 5000, size=5))[::-1], np.sort(np.random.randint(3000, 4000, size=5))[::-1], \\\n",
    "                np.sort(np.random.randint(2000, 3000, size=5))[::-1], np.sort(np.random.randint(1000, 2000, size=5))[::-1], \\\n",
    "                np.sort(np.random.randint(0, 1000, size=5))[::-1]]\n",
    "\n",
    "for temps in temp_explore:\n",
    "    fig = plt.subplots()\n",
    "    plt.title(\"Evolution of Partition Function per Sweep {}\".format(round(temps[0],-3)))\n",
    "    plt.xlabel(\"Sweep\")\n",
    "    plt.ylabel(\"Partition Function (Z)\")\n",
    "    for j in temps:\n",
    "        walker_z_df_walker = walker_z_df[(walker_z_df['temp']==j) & (walker_z_df['walker']==0)]\n",
    "        walker_z_df_walker.head()\n",
    "        sns.lineplot(walker_z_df_walker['sweep'], walker_z_df_walker['partition_function'], label='Partition Function at B: {}'.format(j))\n",
    "    # move the plot outside fo the graph\n",
    "    plt.legend(bbox_to_anchor=(1.05, 1), loc=2, borderaxespad=0.)\n",
    "    #plt.savefig('partition_{}.png'.format(round(temps[0],-3)))"
   ]
  },
  {
   "cell_type": "code",
   "execution_count": 17,
   "metadata": {},
   "outputs": [
    {
     "name": "stderr",
     "output_type": "stream",
     "text": [
      "/Users/tinkertanker/anaconda3/lib/python3.6/site-packages/numpy/core/fromnumeric.py:3118: RuntimeWarning: Mean of empty slice.\n",
      "  out=out, **kwargs)\n",
      "/Users/tinkertanker/anaconda3/lib/python3.6/site-packages/numpy/core/_methods.py:85: RuntimeWarning: invalid value encountered in double_scalars\n",
      "  ret = ret.dtype.type(ret / rcount)\n",
      "/Users/tinkertanker/anaconda3/lib/python3.6/site-packages/numpy/core/fromnumeric.py:86: RuntimeWarning: overflow encountered in reduce\n",
      "  return ufunc.reduce(obj, axis, dtype, out, **passkwargs)\n",
      "/Users/tinkertanker/anaconda3/lib/python3.6/site-packages/ipykernel_launcher.py:264: RuntimeWarning: overflow encountered in true_divide\n",
      "/Users/tinkertanker/anaconda3/lib/python3.6/site-packages/scipy/stats/_distn_infrastructure.py:2514: RuntimeWarning: invalid value encountered in true_divide\n",
      "  qk = 1.0*qk / np.sum(qk, axis=0)\n",
      "/Users/tinkertanker/anaconda3/lib/python3.6/site-packages/ipykernel_launcher.py:264: RuntimeWarning: divide by zero encountered in true_divide\n"
     ]
    }
   ],
   "source": [
    "# deploy on cloud\n",
    "#explore = [i for i in range(1, 1001, 50)]\n",
    "\n",
    "# write to a dataframe and a raw csv\n",
    "pop_anneal = {\"run\":list(), 'temperature':list(), \"energy_landscape\":list(), \"divergence\":list(), \\\n",
    "              \"converged_perc\":list(), \"best_cost\":list(), \"avg_cost_temp\": list(), \"temp_pop\":list(), \\\n",
    "             \"total_pop\":list()}\n",
    "explore = 50\n",
    "iters = 100\n",
    "\n",
    "for i in range(1):\n",
    "    a = Annealer(maxsteps=101, walkers=explore)\n",
    "    energy_landscape, average_cost, cumulative, kl_divergence, best_cost, population, temp = a.anneal()\n",
    "    temp = [0] + temp\n",
    "    temp = temp[:-2]\n",
    "    total_population = np.sum(population)\n",
    "    new_divergence = np.abs([0 if math.isinf(v) == True else v for k,v in kl_divergence.items()])\n",
    "    for j in temp:\n",
    "        pop_anneal['run'].append(i)\n",
    "        pop_anneal['temperature'].append(j)\n",
    "        pop_anneal['energy_landscape'].append(energy_landscape)\n",
    "        pop_anneal['divergence'].append(new_divergence[j])\n",
    "        pop_anneal[\"converged_perc\"].append(cumulative/total_population)\n",
    "        pop_anneal[\"best_cost\"].append(best_cost[2])\n",
    "        # need to implement average cost every time step\n",
    "        pop_anneal[\"avg_cost_temp\"].append(average_cost[j])\n",
    "        pop_anneal[\"temp_pop\"].append(population[j])\n",
    "        pop_anneal[\"total_pop\"].append(total_population)\n",
    "        \n",
    "anneal_run = pd.DataFrame.from_dict(pop_anneal)\n",
    "anneal_run.head()\n",
    "#anneal_run.to_csv(\"PA_run_test.csv\")"
   ]
  },
  {
   "cell_type": "code",
   "execution_count": 76,
   "metadata": {},
   "outputs": [
    {
     "data": {
      "text/plain": [
       "<matplotlib.legend.Legend at 0x1a3ea50470>"
      ]
     },
     "execution_count": 76,
     "metadata": {},
     "output_type": "execute_result"
    },
    {
     "data": {
      "image/png": "[encoded data removed]",
      "text/plain": [
       "<Figure size 432x288 with 1 Axes>"
      ]
     },
     "metadata": {},
     "output_type": "display_data"
    }
   ],
   "source": [
    "df = pd.DataFrame(free_energy, index=[0]).T.reset_index().rename(columns={\"index\":\"temperature\", 0:\"free_energy\"})\n",
    "plt.title(\"Free Energy Per Temperature\")\n",
    "sns.lineplot(df['temperature'],df['free_energy'], color='y', label='Free Energy')\n",
    "plt.xlabel(\"Temperature\")\n",
    "plt.ylabel(\"Free Energy\")\n",
    "#plt.gca().invert_xaxis()\n",
    "plt.legend()\n",
    "\n",
    "# kulbeck leiber divergence \n",
    "# cross entropy"
   ]
  },
  {
   "cell_type": "code",
   "execution_count": 77,
   "metadata": {},
   "outputs": [
    {
     "data": {
      "text/plain": [
       "<matplotlib.legend.Legend at 0x1a43c7fb00>"
      ]
     },
     "execution_count": 77,
     "metadata": {},
     "output_type": "execute_result"
    },
    {
     "data": {
      "image/png": "[encoded data removed]",
      "text/plain": [
       "<Figure size 432x288 with 1 Axes>"
      ]
     },
     "metadata": {},
     "output_type": "display_data"
    }
   ],
   "source": [
    "free = free_energy.copy()\n",
    "for k,v in free.items():\n",
    "    free[k] = free[k]/(-1/k)\n",
    "\n",
    "df = pd.DataFrame(free, index=[0]).T.reset_index().rename(columns={\"index\":\"temperature\", 0:\"free_energy\"})\n",
    "plt.title(\"Free Energy Per Temperature\")\n",
    "sns.lineplot(df['temperature'],df['free_energy'], color='y', label='Free Energy')\n",
    "plt.xlabel(\"Temperature\")\n",
    "plt.ylabel(\"Free Energy\")\n",
    "plt.gca().invert_xaxis()\n",
    "plt.legend()\n",
    "\n",
    "# kulbeck leiber divergence \n",
    "# cross entropy"
   ]
  },
  {
   "cell_type": "code",
   "execution_count": 33,
   "metadata": {},
   "outputs": [
    {
     "data": {
      "text/plain": [
       "<matplotlib.legend.Legend at 0x1a1fb3b780>"
      ]
     },
     "execution_count": 33,
     "metadata": {},
     "output_type": "execute_result"
    },
    {
     "data": {
      "image/png": "[encoded data removed]",
      "text/plain": [
       "<Figure size 432x288 with 1 Axes>"
      ]
     },
     "metadata": {},
     "output_type": "display_data"
    }
   ],
   "source": [
    "df = pd.DataFrame(energy_landscape, index=[0]).T.reset_index().rename(columns={\"index\":\"energy\", 0:\"count\"})\n",
    "plt.title(\"Energy Landscape Kernel Density Estimate\")\n",
    "plt.xlabel(\"Energy\")\n",
    "plt.ylabel(\"Kernel Density Estimate\")\n",
    "sns.distplot(df['energy'], color='y', label='energy', bins=10)\n",
    "plt.legend()\n",
    "\n",
    "# kulbeck leiber divergence \n",
    "# cross entropy"
   ]
  },
  {
   "cell_type": "code",
   "execution_count": 78,
   "metadata": {},
   "outputs": [
    {
     "data": {
      "text/plain": [
       "<matplotlib.legend.Legend at 0x1a3f088518>"
      ]
     },
     "execution_count": 78,
     "metadata": {},
     "output_type": "execute_result"
    },
    {
     "data": {
      "image/png": "[encoded data removed]",
      "text/plain": [
       "<Figure size 432x288 with 1 Axes>"
      ]
     },
     "metadata": {},
     "output_type": "display_data"
    }
   ],
   "source": [
    "#population = [np.mean(i) for i in pop]\n",
    "#temp = [np.mean(i) for i in temperature]\n",
    "sns.lineplot(temp[1:], population, label='number_of_walkers')\n",
    "plt.title(\"Number of Walkers over Time\")\n",
    "plt.xlabel(\"Temperature (1/B)\")\n",
    "plt.ylabel(\"Number of Walkers\")\n",
    "plt.legend()\n",
    "#plt.gca().invert_xaxis()\n",
    "\n",
    "#plt.xlim(0.5, 0)"
   ]
  },
  {
   "cell_type": "code",
   "execution_count": 37,
   "metadata": {},
   "outputs": [
    {
     "data": {
      "text/plain": [
       "(0, 500)"
      ]
     },
     "execution_count": 37,
     "metadata": {},
     "output_type": "execute_result"
    },
    {
     "data": {
      "image/png": "[encoded data removed]",
      "text/plain": [
       "<Figure size 432x288 with 1 Axes>"
      ]
     },
     "metadata": {},
     "output_type": "display_data"
    }
   ],
   "source": [
    "#population = [np.mean(i) for i in pop]\n",
    "#temp = [np.mean(i) for i in temperature]\n",
    "best_costs = [i for i in best_cost]\n",
    "sns.lineplot(temp[1:], average_cost, label='average_cost')\n",
    "sns.lineplot(temp[1:], best_costs, label='best_cost')\n",
    "plt.title(\"Average Cost over Time\")\n",
    "plt.xlabel(\"Temperature (1/B)\")\n",
    "plt.ylabel(\"Average Cost\")\n",
    "plt.legend()\n",
    "plt.xlim(0, 500)\n",
    "#plt.gca().invert_xaxis()\n",
    "\n",
    "#plt.xlim(0.5, 0)"
   ]
  },
  {
   "cell_type": "code",
   "execution_count": 80,
   "metadata": {},
   "outputs": [
    {
     "data": {
      "text/plain": [
       "array([0.56298083, 0.89152369, 0.46129862, 0.1090285 , 0.1098522 ,\n",
       "       0.57085742, 0.61210846, 0.16713512, 0.54922531, 0.77267442,\n",
       "       0.9458792 , 0.95522365, 0.34527946, 0.1254422 , 0.63425862,\n",
       "       0.80613341, 0.40530479, 0.75767421, 0.50435957, 0.91466011,\n",
       "       0.08343189, 0.54998991, 0.00504167, 0.68553242, 0.61117958,\n",
       "       0.06320741, 0.0114685 , 0.20473176, 0.3555325 , 0.58483388])"
      ]
     },
     "execution_count": 80,
     "metadata": {},
     "output_type": "execute_result"
    }
   ],
   "source": [
    "def multinomial_resampling(n=30):\n",
    "    unif_numbers = np.random.uniform(0, 1, n) # replace 0 with the sum of normalized weights up to the k-1 iteration, and 1 with the total sum of normalized weights\n",
    "    #np.random.multinomial(n, )\n",
    "    return unif_numbers\n",
    "\n",
    "#multinomial_resampling()"
   ]
  },
  {
   "cell_type": "code",
   "execution_count": 82,
   "metadata": {},
   "outputs": [
    {
     "name": "stderr",
     "output_type": "stream",
     "text": [
      "/Users/tinkertanker/anaconda3/lib/python3.6/site-packages/ipykernel_launcher.py:15: MatplotlibDeprecationWarning: \n",
      "The 'normed' kwarg was deprecated in Matplotlib 2.1 and will be removed in 3.1. Use 'density' instead.\n",
      "  from ipykernel import kernelapp as app\n",
      "/Users/tinkertanker/anaconda3/lib/python3.6/site-packages/ipykernel_launcher.py:16: MatplotlibDeprecationWarning: \n",
      "The 'normed' kwarg was deprecated in Matplotlib 2.1 and will be removed in 3.1. Use 'density' instead.\n",
      "  app.launch_new_instance()\n",
      "/Users/tinkertanker/anaconda3/lib/python3.6/site-packages/numpy/lib/histograms.py:824: RuntimeWarning: invalid value encountered in greater_equal\n",
      "  keep = (tmp_a >= first_edge)\n",
      "/Users/tinkertanker/anaconda3/lib/python3.6/site-packages/numpy/lib/histograms.py:825: RuntimeWarning: invalid value encountered in less_equal\n",
      "  keep &= (tmp_a <= last_edge)\n"
     ]
    },
    {
     "data": {
      "image/png": "[encoded data removed]",
      "text/plain": [
       "<Figure size 432x288 with 1 Axes>"
      ]
     },
     "metadata": {},
     "output_type": "display_data"
    }
   ],
   "source": [
    "from scipy.interpolate import interp1d\n",
    "from statsmodels.distributions.empirical_distribution import ECDF\n",
    "\n",
    "# Make up some random data\n",
    "# x = np.concatenate([np.random.normal(0, 1, 10000),\n",
    "#                     np.random.normal(4, 1, 10000)])\n",
    "\n",
    "x = multinomial_resampling()\n",
    "\n",
    "ecdf = ECDF(x)\n",
    "inv_cdf = interp1d(ecdf.y, ecdf.x, bounds_error=False, assume_sorted=True)\n",
    "r = np.random.multonomial(30, 1, 1) # n will be walkers_t1, pvals will be the normalized weights in pdf form\n",
    "ys = inv_cdf(r)\n",
    "\n",
    "plt.hist(x, 25, histtype='step', color='red', normed=True, linewidth=1)\n",
    "plt.hist(ys, 25, histtype='step', color='blue', normed=True, linewidth=1);"
   ]
  },
  {
   "cell_type": "code",
   "execution_count": null,
   "metadata": {},
   "outputs": [],
   "source": []
  }
 ],
 "metadata": {
  "kernelspec": {
   "display_name": "Python 3",
   "language": "python",
   "name": "python3"
  },
  "language_info": {
   "codemirror_mode": {
    "name": "ipython",
    "version": 3
   },
   "file_extension": ".py",
   "mimetype": "text/x-python",
   "name": "python",
   "nbconvert_exporter": "python",
   "pygments_lexer": "ipython3",
   "version": "3.6.8"
  }
 },
 "nbformat": 4,
 "nbformat_minor": 4
}
