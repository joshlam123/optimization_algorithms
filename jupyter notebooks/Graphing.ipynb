{
 "cells": [
  {
   "cell_type": "code",
   "execution_count": 1,
   "metadata": {},
   "outputs": [],
   "source": [
    "import math\n",
    "#%matplotlib qt5\n",
    "import matplotlib.pyplot as plt\n",
    "from mpl_toolkits.mplot3d import Axes3D\n",
    "import numpy as np\n",
    "import pandas as pd\n",
    "import seaborn as sns\n",
    "# Display all floats rounded off to 1 decimal place\n",
    "pd.options.display.float_format = '{:,.1f}'.format\n",
    "# Plot inline in Jupyter notebook\n",
    "# Settings throughout the notebook\n",
    "sns.set()\n",
    "# Width = 16, Height = 6\n",
    "DIMS=(16, 6)"
   ]
  },
  {
   "cell_type": "code",
   "execution_count": null,
   "metadata": {},
   "outputs": [],
   "source": [
    "# need to define the folder\n",
    "file1 = os.getcwd() + \"/Linear Ramp/case1.csv\"\n",
    "file2 = os.getcwd() + \"/Geometric Rate/case1.csv\"\n",
    "file3 = os.getcwd() + \"/Lam's Rate/case1.csv\""
   ]
  },
  {
   "cell_type": "code",
   "execution_count": null,
   "metadata": {},
   "outputs": [],
   "source": []
  },
  {
   "cell_type": "code",
   "execution_count": null,
   "metadata": {},
   "outputs": [],
   "source": [
    "df_case2_group_mean_use = pd.read_csv(file2)\n",
    "for i in geoms:\n",
    "    df_case2_group_mean_use = df_case2_group_mean[df_case2_group_mean['probability']==i]\n",
    "    #dataframes = [df_case2_group_mean, df_case2_group_max, df_case2_group_min, df_case2_group_std]\n",
    "    #dataframe_name = ['mean', 'max', 'min', 'std']\n",
    "\n",
    "    #print(current_df)\n",
    "    #fig, ax1 = plt.subplots(1, 1)\n",
    "    plt.xlabel(\"Temperature\")\n",
    "    plt.ylabel(\"Best Cost\", fontsize=12)\n",
    "    colormap = plt.cm.gist_ncar\n",
    "    #plt.gca().set_prop_cycle(plt.cycler('color', plt.cm.jet(np.linspace(0, 2.01, 1))))\n",
    "\n",
    "        #Add the legend\n",
    "    plt.title(\"Best Cost v. Temperature (Different Geometric Rates)\".format(i))\n",
    "    plt.xlim(1.0, 0)\n",
    "#    plt.ylim(0,100)\n",
    "\n",
    "    plt.plot(df_case2_group_mean_use['temp'].tolist(), df_case2_group_mean_use['best_cost'].tolist(), label=i) # need to redefine the names\n",
    "    plt.legend(fontsize=12)\n",
    "\n",
    "plt.savefig('case2_geom_best_compiled.png')\n",
    "    "
   ]
  },
  {
   "cell_type": "code",
   "execution_count": null,
   "metadata": {},
   "outputs": [],
   "source": []
  }
 ],
 "metadata": {
  "kernelspec": {
   "display_name": "Python 3",
   "language": "python",
   "name": "python3"
  },
  "language_info": {
   "codemirror_mode": {
    "name": "ipython",
    "version": 3
   },
   "file_extension": ".py",
   "mimetype": "text/x-python",
   "name": "python",
   "nbconvert_exporter": "python",
   "pygments_lexer": "ipython3",
   "version": "3.6.8"
  }
 },
 "nbformat": 4,
 "nbformat_minor": 2
}
